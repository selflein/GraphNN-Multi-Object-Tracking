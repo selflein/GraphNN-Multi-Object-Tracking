{
 "cells": [
  {
   "cell_type": "code",
   "execution_count": null,
   "source": [
    "%load_ext autoreload\n",
    "%autoreload 2\n",
    "%matplotlib inline\n",
    "%cd .."
   ],
   "outputs": [],
   "metadata": {}
  },
  {
   "cell_type": "code",
   "execution_count": null,
   "source": [
    "from pathlib import Path\n",
    "\n",
    "from src.data_utils.inference import get_track_dict \n",
    "from src.tracker.data_track import MOT16, MOT16Sequence\n",
    "from src.tracker.utils import plot_sequence, evaluate_mot_accums, get_mot_accum"
   ],
   "outputs": [],
   "metadata": {}
  },
  {
   "cell_type": "code",
   "execution_count": null,
   "source": [
    "sequence_name = \"MOT16-02\"\n",
    "seq_folder = Path(f'./data/preprocessed_train/{sequence_name}/')\n",
    "net_weights = Path('logs/bce_val/version_1/checkpoints/checkpoints_30.pth')\n",
    "eval_dict = get_track_dict(seq_folder, net_weights)"
   ],
   "outputs": [],
   "metadata": {}
  },
  {
   "cell_type": "code",
   "execution_count": null,
   "source": [
    "plot_sequence(eval_dict, MOT16Sequence('./data/MOT16/', sequence_name), 5)"
   ],
   "outputs": [],
   "metadata": {}
  },
  {
   "cell_type": "code",
   "execution_count": null,
   "source": [
    "accum = get_mot_accum(eval_dict, MOT16Sequence('./data/MOT16/', sequence_name))"
   ],
   "outputs": [],
   "metadata": {}
  },
  {
   "cell_type": "code",
   "execution_count": null,
   "source": [
    "evaluate_mot_accums(\n",
    "    [accum],\n",
    "    [str(MOT16Sequence('./data/MOT16/', sequence_name))],\n",
    "    generate_overall=True\n",
    ")"
   ],
   "outputs": [],
   "metadata": {}
  }
 ],
 "metadata": {
  "kernelspec": {
   "name": "python3",
   "display_name": "Python 3.7.11 64-bit ('mot': conda)"
  },
  "language_info": {
   "codemirror_mode": {
    "name": "ipython",
    "version": 3
   },
   "file_extension": ".py",
   "mimetype": "text/x-python",
   "name": "python",
   "nbconvert_exporter": "python",
   "pygments_lexer": "ipython3",
   "version": "3.7.11"
  },
  "interpreter": {
   "hash": "5c4b06acc839ea8345b0061d7216ebf4304ba0c77875025108296e1419997990"
  }
 },
 "nbformat": 4,
 "nbformat_minor": 4
}